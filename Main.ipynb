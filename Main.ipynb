{
  "nbformat": 4,
  "nbformat_minor": 0,
  "metadata": {
    "colab": {
      "provenance": [],
      "toc_visible": true,
      "authorship_tag": "ABX9TyMJB0ABwpOOPeZ2vWHFeJP6",
      "include_colab_link": true
    },
    "kernelspec": {
      "name": "python3",
      "display_name": "Python 3"
    },
    "language_info": {
      "name": "python"
    }
  },
  "cells": [
    {
      "cell_type": "markdown",
      "metadata": {
        "id": "view-in-github",
        "colab_type": "text"
      },
      "source": [
        "<a href=\"https://colab.research.google.com/github/harishahamed26/NLP_ReinforcementLearning/blob/main/Main.ipynb\" target=\"_parent\"><img src=\"https://colab.research.google.com/assets/colab-badge.svg\" alt=\"Open In Colab\"/></a>"
      ]
    },
    {
      "cell_type": "markdown",
      "source": [
        "# New section"
      ],
      "metadata": {
        "id": "AzgGAKszU8QU"
      }
    },
    {
      "cell_type": "code",
      "execution_count": 1,
      "metadata": {
        "id": "x-lCM8EFlZSU",
        "colab": {
          "base_uri": "https://localhost:8080/"
        },
        "outputId": "923fc826-3ff4-4dbc-b235-e59a15ad7ab6"
      },
      "outputs": [
        {
          "output_type": "stream",
          "name": "stderr",
          "text": [
            "[nltk_data] Downloading package punkt to /root/nltk_data...\n",
            "[nltk_data]   Unzipping tokenizers/punkt.zip.\n",
            "[nltk_data] Downloading package gutenberg to /root/nltk_data...\n",
            "[nltk_data]   Unzipping corpora/gutenberg.zip.\n"
          ]
        }
      ],
      "source": [
        "# import python libraries\n",
        "import numpy as np\n",
        "from tensorflow.keras.models import Sequential, load_model\n",
        "from tensorflow.keras.layers import Dense, Embedding, LSTM, Bidirectional, Dropout\n",
        "from tensorflow.keras.utils import to_categorical\n",
        "from keras.preprocessing.text import Tokenizer\n",
        "from random import randint\n",
        "import re\n",
        "\n",
        "import keras\n",
        "import nltk \n",
        "from nltk.tokenize import word_tokenize\n",
        "nltk.download('punkt')\n",
        "\n",
        "from nltk.translate.bleu_score import sentence_bleu\n",
        "\n",
        "nltk.download('gutenberg')  # downloads a library that NLTK uses\n",
        "\n",
        "from nltk.corpus import gutenberg as gut  # downloads the gutenberg dataset\n"
      ]
    },
    {
      "cell_type": "code",
      "source": [
        "# get the book text\n",
        "book_text = nltk.corpus.gutenberg.raw('blake-poems.txt')\n",
        "print(book_text)"
      ],
      "metadata": {
        "id": "POTQQsuBf-iO"
      },
      "execution_count": null,
      "outputs": []
    },
    {
      "cell_type": "code",
      "source": [
        "# Data preprocessing\n",
        "def preprocess_text(sen):\n",
        "    # Remove punctuations and numbers\n",
        "    sentence = re.sub('[^a-zA-Z]', ' ', sen)\n",
        "\n",
        "    # Single character removal\n",
        "    sentence = re.sub(r\"\\s+[a-zA-Z]\\s+\", ' ', sentence)\n",
        "\n",
        "    # Removing multiple spaces\n",
        "    sentence = re.sub(r'\\s+', ' ', sentence)\n",
        "\n",
        "    return sentence.lower()\n",
        "book_text = preprocess_text(book_text)\n",
        "\n",
        "book_text\n"
      ],
      "metadata": {
        "colab": {
          "base_uri": "https://localhost:8080/",
          "height": 144
        },
        "id": "0ejP9FjIgArb",
        "outputId": "0c17ccc1-e890-44ff-8ee3-110189572d5c"
      },
      "execution_count": 3,
      "outputs": [
        {
          "output_type": "execute_result",
          "data": {
            "text/plain": [
              "' poems by william blake songs of innocence and of experience and the book of thel songs of innocence introduction piping down the valleys wild piping songs of pleasant glee on cloud saw child and he laughing said to me pipe song about lamb so piped with merry cheer piper pipe that song again so piped he wept to hear drop thy pipe thy happy pipe sing thy songs of happy cheer so sang the same again while he wept with joy to hear piper sit thee down and write in book that all may read so he vanish from my sight and pluck a hollow reed and made rural pen and stain the water clear and wrote my happy songs every child may joy to hear the shepherd how sweet is the shepherd sweet lot from the morn to the evening he stays he shall follow his sheep all the day and his tongue shall be filled with praise for he hears the lambs innocent call and he hears the ewes tender reply he is watching while they are in peace for they know when their shepherd is nigh the echoing green the sun does arise and make happy the skies the merry bells ring to welcome the spring the skylark and thrush the birds of the bush sing louder around to the bells cheerful sound while our sports shall be seen on the echoing green old john with white hair does laugh away care sitting under the oak among the old folk they laugh at our play and soon they all say such such were the joys when we all girls and boys in our youth time were seen on the echoing green till the little ones weary no more can be merry the sun does descend and our sports have an end round the laps of their mothers many sisters and brothers like birds in their nest are ready for rest and sport no more seen on the darkening green the lamb little lamb who make thee dost thou know who made thee gave thee life and bid thee feed by the stream and er the mead gave thee clothing of delight softest clothing wolly bright gave thee such tender voice making all the vales rejoice little lamb who made thee dost thou know who made thee little lamb ll tell thee little lamb ll tell thee he is called by thy name for he calls himself lamb he is meek and he is mild he became little child a child and thou lamb we are called by his name little lamb god bless thee little lamb god bless thee the little black boy my mother bore me in the southern wild and am black but oh my soul is white white as an angel is the english child but am black as if bereaved of light my mother taught me underneath tree and sitting down before the heat of day she took me on her lap and kissed me and pointed to the east began to say look on the rising sun there god does live and gives his light and gives his heat away and flowers and trees and beasts and men receive comfort in morning joy in the noonday and we are put on earth little space that we may learn to bear the beams of love and these black bodies and this sunburnt face is but cloud and like shady grove for when our souls have learn the heat to bear the cloud will vanish we shall hear his voice saying come out from the grove my love and care and round my golden tent like lambs rejoice thus did my mother say and kissed me and thus say to little english boy when from black and he from white cloud free and round the tent of god like lambs we joy ll shade him from the heat till he can bear to lean in joy upon our father knee and then ll stand and stroke his silver hair and be like him and he will then love me the blossom merry merry sparrow under leaves so green happy blossom sees you swift as arrow seek your cradle narrow near my bosom pretty pretty robin under leaves so green happy blossom hears you sobbing sobbing pretty pretty robin near my bosom the chimney sweeper when my mother died was very young and my father sold me while yet my tongue could scarcely cry weep weep weep weep so your chimneys sweep and in soot sleep there little tom dacre who cried when his head that curled like lamb back was shaved so said hush tom never mind it for when your head bare you know that the soot cannot spoil your white hair and so he was quiet and that very night as tom was sleeping he had such sight that thousands of sweepers dick joe ned and jack were all of them locked up in coffins of black and by came an angel who had bright key and he opened the coffins and let them all free then down green plain leaping laughing they run and wash in river and shine in the sun then naked and white all their bags left behind they rise upon clouds and sport in the wind and the angel told tom if he be good boy he have god for his father and never want joy and so tom awoke and we rose in the dark and got with our bags and our brushes to work though the morning was cold tom was happy and warm so if all do their duty they need not fear harm the little boy lost father father where are you going oh do not walk so fast speak father speak to you little boy or else shall be lost the night was dark no father was there the child was wet with dew the mire was deep and the child did weep and away the vapour flew the little boy found the little boy lost in the lonely fen led by the wandering light began to cry but god ever nigh appeared like his father in white he kissed the child and by the hand led and to his mother brought who in sorrow pale through the lonely dale the little boy weeping sought laughing song when the green woods laugh with the voice of joy and the dimpling stream runs laughing by when the air does laugh with our merry wit and the green hill laughs with the noise of it when the meadows laugh with lively green and the grasshopper laughs in the merry scene when mary and susan and emily with their sweet round mouths sing ha ha he when the painted birds laugh in the shade where our table with cherries and nuts is spread come live and be merry and join with me to sing the sweet chorus of ha ha he song sweet dreams form shade er my lovely infant head sweet dreams of pleasant streams by happy silent moony beams sweet sleep with soft down weave thy brows an infant crown sweet sleep angel mild hover er my happy child sweet smiles in the night hover over my delight sweet smiles mother smile all the livelong night beguile sweet moans dovelike sighs chase not slumber from thine eyes sweet moan sweeter smile all the dovelike moans beguile sleep sleep happy child all creation slept and smiled sleep sleep happy sleep while er thee doth mother weep sweet babe in thy face holy image can trace sweet babe once like thee thy maker lay and wept for me wept for me for thee for all when he was an infant small thou his image ever see heavenly face that smiles on thee smiles on thee on me on all who became an infant small infant smiles are his own smiles heaven and earth to peace beguiles divine image to mercy pity peace and love all pray in their distress and to these virtues of delight return their thankfulness for mercy pity peace and love is god our father dear and mercy pity peace and love is man his child and care for mercy has human heart pity human face and love the human form divine and peace the human dress then every man of every clime that prays in his distress prays to the human form divine love mercy pity peace and all must love the human form in heathen turk or jew where mercy love and pity dwell there god is dwelling too holy thursday twas on holy thursday their innocent faces clean came children walking two and two in read and blue and green grey headed beadles walked before with wands as white as snow till into the high dome of paul they like thames waters flow oh what multitude they seemed these flowers of london town seated in companies they sit with radiance all their own the hum of multitudes was there but multitudes of lambs thousands of little boys and girls raising their innocent hands now like mighty wild they raise to heaven the voice of song or like harmonious thunderings the seats of heaven among beneath them sit the aged man wise guardians of the poor then cherish pity lest you drive an angel from your door night the sun descending in the west the evening star does shine the birds are silent in their nest and must seek for mine the moon like flower in heaven high bower with silent delight sits and smiles on the night farewell green fields and happy grove where flocks have ta en delight where lambs have nibbled silent move the feet of angels bright unseen they pour blessing and joy without ceasing on each bud and blossom and each sleeping bosom they look in every thoughtless nest where birds are covered warm they visit caves of every beast to keep them all from harm if they see any weeping that should have been sleeping they pour sleep on their head and sit down by their bed when wolves and tigers howl for prey they pitying stand and weep seeking to drive their thirst away and keep them from the sheep but if they rush dreadful the angels most heedful receive each mild spirit new worlds to inherit and there the lion ruddy eyes shall flow with tears of gold and pitying the tender cries and walking round the fold saying wrath by his meekness and by his health sickness are driven away from our immortal day and now beside thee bleating lamb can lie down and sleep or think on him who bore thy name graze after thee and weep for washed in life river my bright mane for ever shall shine like the gold as guard er the fold spring sound the flute now it mute bird delight day and night nightingale in the dale lark in sky merrily merrily merrily to welcome in the year little boy full of joy little girl sweet and small cock does crow so do you merry voice infant noise merrily merrily to welcome in the year little lamb here am come and lick my white neck let me pull your soft wool let me kiss your soft face merrily merrily to welcome in the year nurse song when the voices of children are heard on the green and laughing is heard on the hill my heart is at rest within my breast and everything else is still then come home my children the sun is gone down and the dews of night arise come come leave off play and let us away till the morning appears in the skies no no let us play for it is yet day and we cannot go to sleep besides in the sky the little birds fly and the hills are all covered with sheep well well go and play till the light fades away and then go home to bed the little ones leaped and shouted and laughed and all the hills echoed infant joy have no name am but two days old what shall call thee happy am joy is my name sweet joy befall thee pretty joy sweet joy but two days old sweet joy call thee thou dost smile sing the while sweet joy befall thee dream once dream did weave shade er my angel guarded bed that an emmet lost its way where on grass methought lay troubled wildered and forlorn dark benighted travel worn over many tangle spray all heart broke heard her say oh my children do they cry do they hear their father sigh now they look abroad to see now return and weep for me pitying dropped tear but saw glow worm near who replied what wailing wight calls the watchman of the night am set to light the ground while the beetle goes his round follow now the beetle hum little wanderer hie thee home on another sorrow can see another woe and not be in sorrow too can see another grief and not seek for kind relief can see falling tear and not feel my sorrow share can father see his child weep nor be with sorrow filled can mother sit and hear an infant groan an infant fear no no never can it be never never can it be and can he who smiles on all hear the wren with sorrows small hear the small bird grief and care hear the woes that infants bear and not sit beside the next pouring pity in their breast and not sit the cradle near weeping tear on infant tear and not sit both night and day wiping all our tears away oh no never can it be never never can it be he doth give his joy to all he becomes an infant small he becomes man of woe he doth feel the sorrow too think not thou canst sigh sigh and thy maker is not by think not thou canst weep tear and thy maker is not year oh he gives to us his joy that our grief he may destroy till our grief is fled an gone he doth sit by us and moan songs of experience introduction hear the voice of the bard who present past and future sees whose ears have heard the holy word that walked among the ancient tree calling the lapsed soul and weeping in the evening dew that might control the starry pole and fallen fallen light renew earth earth return arise from out the dewy grass night is worn and the morn rises from the slumbrous mass turn away no more why wilt thou turn away the starry floor the watery shore are given thee till the break of day earth answer earth raised up her head from the darkness dread and drear her light fled stony dread and her locks covered with grey despair prisoned on watery shore starry jealousy does keep my den cold and hoar weeping re hear the father of the ancient men selfish father of men cruel jealous selfish fear can delight chained in night the virgins of youth and morning bear does spring hide its joy when buds and blossoms grow does the sower sow by night or the plowman in darkness plough break this heavy chain that does freeze my bones around selfish vain eternal bane that free love with bondage bound the clod and the pebble love seeketh not itself to please nor for itself hath any care but for another gives it ease and builds heaven in hell despair so sang little clod of clay trodden with the cattle feet but pebble of the brook warbled out these metres meet love seeketh only self to please to bind another to its delight joys in another loss of ease and builds hell in heaven despite holy thursday is this holy thing to see in rich and fruitful land babes reduced to misery fed with cold and usurous hand is that trembling cry song can it be song of joy and so many children poor it is land of poverty and their son does never shine and their fields are bleak and bare and their ways are filled with thorns it is eternal winter there for where er the sun does shine and where er the rain does fall babes should never hunger there nor poverty the mind appall the little girl lost in futurity prophetic see that the earth from sleep grave the sentence deep shall arise and seek for her maker meek and the desert wild become garden mild in the southern clime where the summer prime never fades away lovely lyca lay seven summers old lovely lyca told she had wandered long hearing wild birds song sweet sleep come to me underneath this tree do father mother weep where can lyca sleep lost in desert wild is your little child how can lyca sleep if her mother weep if her heart does ache then let lyca wake if my mother sleep lyca shall not weep frowning frowning night er this desert bright let thy moon arise while close my eyes sleeping lyca lay while the beasts of prey come from caverns deep viewed the maid asleep the kingly lion stood and the virgin viewed then he gambolled round er the hallowed ground leopards tigers play round her as she lay while the lion old bowed his mane of gold and her breast did lick and upon her neck from his eyes of flame ruby tears there came while the lioness loosed her slender dress and naked they conveyed to caves the sleeping maid the little girl found all the night in woe lyca parents go over valleys deep while the deserts weep tired and woe begone hoarse with making moan arm in arm seven days they traced the desert ways seven nights they sleep among shadows deep and dream they see their child starved in desert wild pale through pathless ways the fancied image strays famished weeping weak with hollow piteous shriek rising from unrest the trembling woman presse with feet of weary woe she could no further go in his arms he bore her armed with sorrow sore till before their way couching lion lay turning back was vain soon his heavy mane bore them to the ground then he stalked around smelling to his prey but their fears allay when he licks their hands and silent by them stands they look upon his eyes filled with deep surprise and wondering behold spirit armed in gold on his head crown on his shoulders down flowed his golden hair gone was all their care follow me he said weep not for the maid in my palace deep lyca lies asleep then they followed where the vision led and saw their sleeping child among tigers wild to this day they dwell in lonely dell nor fear the wolvish howl nor the lion growl the chimney sweeper little black thing in the snow crying weep weep in notes of woe where are thy father and mother say they are both gone up to the church to pray because was happy upon the heath and smiled among the winter snow they clothed me in the clothes of death and taught me to sing the notes of woe and because am happy and dance and sing they think they have done me no injury and are gone to praise god and his priest and king who make up heaven of our misery nurse song when voices of children are heard on the green and whisperings are in the dale the days of my youth rise fresh in my mind my face turns green and pale then come home my children the sun is gone down and the dews of night arise your spring and your day are wasted in play and your winter and night in disguise the sick rose rose thou art sick the invisible worm that flies in the night in the howling storm has found out thy bed of crimson joy and his dark secret love does thy life destroy the fly little fly thy summer play my thoughtless hand has brushed away am not a fly like thee or art not thou man like me for dance and drink and sing till some blind hand shall brush my wing if thought is life and strength and breath and the want of thought is death then am a happy fly if live or if die the angel dreamt dream what can it mean and that was maiden queen guarded by an angel mild witless woe was ne er beguiled and wept both night and day and he wiped my tears away and wept both day and night and hid from him my heart delight so he took his wings and fled then the morn blushed rosy red dried my tears and armed my fears with ten thousand shields and spears soon my angel came again was armed he came in vain for the time of youth was fled and grey hairs were on my head the tiger tiger tiger burning bright in the forest of the night what immortal hand or eye could frame thy fearful symmetry in what distant deeps or skies burnt the fire of thine eyes on what wings dare he aspire what the hand dare seize the fire and what shoulder and what art could twist the sinews of thy heart and when thy heart began to beat what dread hand and what dread feet what the hammer what the chain in what furnace was thy brain what the anvil what dread grasp dare its deadly terrors clasp when the stars threw down their spears and watered heaven with their tears did he smile his work to see did he who made the lamb make thee tiger tiger burning bright in the forests of the night what immortal hand or eye dare frame thy fearful symmetry my pretty rose tree flower was offered to me such flower as may never bore but said ve pretty rose tree and passed the sweet flower er then went to my pretty rose tree to tend her by day and by night but my rose turned away with jealousy and her thorns were my only delight ah sunflower ah sunflower weary of time who countest the steps of the sun seeking after that sweet golden clime where the traveller journey is done where the youth pined away with desire and the pale virgin shrouded in snow arise from their graves and aspire where my sunflower wishes to go the lily the modest rose puts forth thorn the humble sheep threat ning horn while the lily white shall in love delight nor thorn nor threat stain her beauty bright the garden of love laid me down upon bank where love lay sleeping heard among the rushes dank weeping weeping then went to the heath and the wild to the thistles and thorns of the waste and they told me how they were beguiled driven out and compelled to the chaste went to the garden of love and saw what never had seen chapel was built in the midst where used to play on the green and the gates of this chapel were shut and thou shalt not writ over the door so turned to the garden of love that so many sweet flowers bore and saw it was filled with graves and tombstones where flowers should be and priests in black gowns were walking their rounds and binding with briars my joys and desires the little vagabond dear mother dear mother the church is cold but the alehouse is healthy and pleasant and warm besides can tell where am used well the poor parsons with wind like blown bladder swell but if at the church they would give us some ale and pleasant fire our souls to regale we sing and we pray all the livelong day nor ever once wish from the church to stray then the parson might preach and drink and sing and we be as happy as birds in the spring and modest dame lurch who is always at church would not have bandy children nor fasting nor birch and god like father rejoicing to see his children as pleasant and happy as he would have no more quarrel with the devil or the barrel but kiss him and give him both drink and apparel london wandered through each chartered street near where the chartered thames does flow mark in every face meet marks of weakness marks of woe in every cry of every man in every infant cry of fear in every voice in every ban the mind forged manacles hear how the chimney sweeper cry every blackening church appals and the hapless soldier sigh runs in blood down palace walls but most through midnight streets hear how the youthful harlot curse blasts the new born infant tear and blights with plagues the marriage hearse the human abstract pity would be no more if we did not make somebody poor and mercy no more could be if all were as happy as we and mutual fear brings peace till the selfish loves increase then cruelty knits snare and spreads his baits with care he sits down with his holy fears and waters the ground with tears then humility takes its root underneath his foot soon spreads the dismal shade of mystery over his head and the caterpillar and fly feed on the mystery and it bears the fruit of deceit ruddy and sweet to eat and the raven his nest has made in its thickest shade the gods of the earth and sea sought through nature to find this tree but their search was all in vain there grows one in the human brain infant sorrow my mother groaned my father wept into the dangerous world leapt helpless naked piping loud like fiend hid in cloud struggling in my father hands striving against my swaddling bands bound and weary thought best to sulk upon my mother breast poison tree was angry with my friend told my wrath my wrath did end was angry with my foe told it not my wrath did grow and watered it in fears night and morning with my tears and sunned it with smiles and with soft deceitful wiles and it grew both day and night till it bore an apple bright and my foe beheld it shine and he knew that it was mine and into my garden stole when the night had veiled the pole in the morning glad see my foe outstretched beneath the tree little boy lost nought loves another as itself nor venerates another so nor is it possible to thought greater than itself to know and father how can love you or any of my brothers more love you like the little bird that picks up crumbs around the door the priest sat by and heard the child in trembling zeal he seized his hair he led him by his little coat and all admired the priestly care and standing on the altar high lo what fiend is here said he one who sets reason up for judge of our most holy mystery the weeping child could not be heard the weeping parents wept in vain they stripped him to his little shirt and bound him in an iron chain and burned him in holy place where many had been burned before the weeping parents wept in vain are such thing done on albion shore little girl lost children of the future age reading this indignant page know that in former time love sweet love was thought crime in the age of gold free from winter cold youth and maiden bright to the holy light naked in the sunny beams delight once youthful pair filled with softest care met in garden bright where the holy light had just removed the curtains of the night then in rising day on the grass they play parents were afar strangers came not near and the maiden soon forgot her fear tired with kisses sweet they agree to meet when the silent sleep waves er heaven deep and the weary tired wanderers weep to her father white came the maiden bright but his loving look like the holy book all her tender limbs with terror shook ona pale and weak to thy father speak oh the trembling fear oh the dismal care that shakes the blossoms of my hoary hair the schoolboy love to rise on summer morn when birds are singing on every tree the distant huntsman winds his horn and the skylark sings with me oh what sweet company but to go to school in summer morn oh it drives all joy away under cruel eye outworn the little ones spend the day in sighing and dismay ah then at times drooping sit and spend many an anxious hour nor in my book can take delight nor sit in learning bower worn through with the dreary shower how can the bird that is born for joy sit in cage and sing how can child when fears annoy but droop his tender wing and forget his youthful spring oh father and mother if buds are nipped and blossoms blown away and if the tender plants are stripped of their joy in the springing day by sorrow and care dismay how shall the summer arise in joy or the summer fruits appear or how shall we gather what griefs destroy or bless the mellowing year when the blasts of winter appear to terzah whate er is born of mortal birth must be consumed with the earth to rise from generation free then what have to do with thee the sexes sprang from shame and pride blown in the morn in evening died but mercy changed death into sleep the sexes rose to work and weep thou mother of my mortal part with cruelty didst mould my heart and with false self deceiving tears didst bind my nostrils eyes and ears didst close my tongue in senseless clay and me to mortal life betray the death of jesus set me free then what have to do with thee the voice of the ancient bard youth of delight come hither and see the opening morn image of truth new born doubt is fled and clouds of reason dark disputes and artful teazing folly is an endless maze tangled roots perplex her ways how many have fallen there they stumble all night over bones of the dead and feel they know not what but care and wish to lead others when they should be led appendix divine image cruelty has human heart and jealousy human face terror the human form divine and secresy the human dress the human dress is forged iron the human form fiery forge the human face furnace sealed the human heart its hungry gorge note though written and engraved by blake divine image was never included in the songs of innocence and of experience william blake the book of thel thel motto does the eagle know what is in the pit or wilt thou go ask the mole can wisdom be put in silver rod or love in golden bowl the book of thel the author printer willm blake thel the daughters of mne seraphim led round their sunny flocks all but the youngest she in paleness sought the secret air to fade away like morning beauty from her mortal day down by the river of adona her soft voice is heard and thus her gentle lamentation falls like morning dew life of this our spring why fades the lotus of the water why fade these children of the spring born but to smile fall ah thel is like watry bow and like parting cloud like reflection in glass like shadows in the water like dreams of infants like smile upon an infants face like the doves voice like transient day like music in the air ah gentle may lay me down and gentle rest my head and gentle sleep the sleep of death and gently hear the voice of him that walketh in the garden in the evening time the lilly of the valley breathing in the humble grass answerd the lovely maid and said am watry weed and am very small and love to dwell in lowly vales so weak the gilded butterfly scarce perches on my head yet am visited from heaven and he that smiles on all walks in the valley and each morn over me spreads his hand saying rejoice thou humble grass thou new born lily flower thou gentle maid of silent valleys and of modest brooks for thou shall be clothed in light and fed with morning manna till summers heat melts thee beside the fountains and the springs to flourish in eternal vales they why should thel complain why should the mistress of the vales of har utter sigh she ceasd smild in tears then sat down in her silver shrine thel answerd thou little virgin of the peaceful valley giving to those that cannot crave the voiceless the er tired the breath doth nourish the innocent lamb he smells the milky garments he crops thy flowers while thou sittest smiling in his face wiping his mild and meekin mouth from all contagious taints thy wine doth purify the golden honey thy perfume which thou dost scatter on every little blade of grass that springs revives the milked cow tames the fire breathing steed but thel is like faint cloud kindled at the rising sun vanish from my pearly throne and who shall find my place queen of the vales the lily answered ask the tender cloud and it shall tell thee why it glitters in the morning sky and why it scatters its bright beauty thro the humid air descend little cloud hover before the eyes of thel the cloud descended and the lily bowd her modest head and went to mind her numerous charge among the verdant grass ii little cloud the virgin said charge thee to tell me why thou complainest now when in one hour thou fade away then we shall seek thee but not find ah thel is like to thee pass away yet complain and no one hears my voice the cloud then shewd his golden head his bright form emerg hovering and glittering on the air before the face of thel virgin know st thou not our steeds drink of the golden springs where luvah doth renew his horses lookst thou on my youth and fearest thou because vanish and am seen no more nothing remains maid tell thee when pass away it is to tenfold life to love to peace and raptures holy unseen descending weigh my light wings upon balmy flowers and court the fair eyed dew to take me to her shining tent the weeping virgin trembling kneels before the risen sun till we arise link in golden band and never part but walk united bearing food to all our tender flowers dost thou little cloud fear that am not like thee for walk through the vales of har and smell the sweetest flowers but feed not the little flowers hear the warbling birds but feed not the warbling birds they fly and seek their food but thel delights in these no more because fade away and all shall say without use this shining women liv or did she only live to be at death the food of worms the cloud reclind upon his airy throne and answerd thus then if thou art the food of worms virgin of the skies how great thy use how great thy blessing every thing that lives lives not alone nor or itself fear not and will call the weak worm from its lowly bed and thou shalt hear its voice come forth worm and the silent valley to thy pensive queen the helpless worm arose and sat upon the lillys leaf and the bright cloud saild on to find his partner in the vale iii then thel astonish view the worm upon its dewy bed art thou worm image of weakness art thou but worm see thee like an infant wrapped in the lillys leaf ah weep not little voice thou can st not speak but thou can st weep is this worm see they lay helpless naked weeping and none to answer none to cherish thee with mothers smiles the clod of clay heard the worms voice rais her pitying head she bowd over the weeping infant and her life exhald in milky fondness then on thel she fix her humble eyes beauty of the vales of har we live not for ourselves thou seest me the meanest thing and so am indeed my bosom of itself is cold and of itself is dark but he that loves the lowly pours his oil upon my head and kisses me and binds his nuptial bands around my breast and says thou mother of my children have loved thee and have given thee crown that none can take away but how this is sweet maid know not and cannot know ponder and cannot ponder yet live and love the daughter of beauty wip her pitying tears with her white veil and said alas knew not this and therefore did weep that god would love worm knew and punish the evil foot that wilful bruis its helpless form but that he cherish it with milk and oil never knew and therefore did weep and complaind in the mild air because fade away and lay me down in thy cold bed and leave my shining lot queen of the vales the matron clay answered heard thy sighs and all thy moans flew er my roof but have call them down wilt thou queen enter my house tis given thee to enter and to return fear nothing enter with thy virgin feet iv the eternal gates terrific porter lifted the northern bar thel enter in saw the secrets of the land unknown she saw the couches of the dead where the fibrous roots of every heart on earth infixes deep its restless twists land of sorrows of tears where never smile was seen she wandered in the land of clouds thro valleys dark listning dolors lamentations waiting oft beside the dewy grave she stood in silence listning to the voices of the ground till to her own grave plot she came there she sat down and heard this voice of sorrow breathed from the hollow pit why cannot the ear be closed to its own destruction or the glistening eye to the poison of smile why are eyelids stord with arrows ready drawn where thousand fighting men in ambush lie or an eye of gifts graces showring fruits coined gold why tongue impress with honey from every wind why an ear whirlpool fierce to draw creations in why nostril wide inhaling terror trembling affright why tender curb upon the youthful burning boy why little curtain of flesh on the bed of our desire the virgin started from her seat with shriek fled back unhinderd till she came into the vales of har '"
            ],
            "application/vnd.google.colaboratory.intrinsic+json": {
              "type": "string"
            }
          },
          "metadata": {},
          "execution_count": 3
        }
      ]
    },
    {
      "cell_type": "code",
      "source": [
        "book_text = book_text.lower()"
      ],
      "metadata": {
        "id": "GlsQlKPCfYm-"
      },
      "execution_count": null,
      "outputs": []
    },
    {
      "cell_type": "code",
      "source": [
        "# convert words to numbers\n",
        "\n",
        "book_text_words = (word_tokenize(book_text))\n",
        "n_words = len(book_text_words)\n",
        "unique_words = len(set(book_text_words))\n",
        "\n",
        "tokenizer = Tokenizer(num_words=unique_words)\n",
        "tokenizer.fit_on_texts(book_text_words)\n",
        "\n",
        "vocab_size = len(tokenizer.word_index) + 1    # word_index is the dictionary. Store the number of unique words in vocab_size variable\n",
        "word_2_index = tokenizer.word_index           # store the dictionary in the variable called word_2_index\n",
        "\n",
        "# Create the input sequences\n",
        "input_sequence_words = []  # input sequences in words (used for metric evaluation later on)\n",
        "input_sequence = []   # empty list to hold the sequences that will be input into our model\n",
        "output_words = []     # empty list to hold the output words\n",
        "input_seq_length = 25  # length of the input sequence\n",
        "for i in range(0, n_words - input_seq_length , 1):\n",
        "    in_seq = book_text_words[i:i + input_seq_length]\n",
        "    input_sequence_words.append(in_seq)\n",
        "    out_seq = book_text_words[i + input_seq_length]\n",
        "    input_sequence.append([word_2_index[word] for word in in_seq])\n",
        "    output_words.append(word_2_index[out_seq])\n",
        "\n",
        "# reshape the input sequences to be 3-dimensional\n",
        "X = np.reshape(input_sequence, (len(input_sequence), input_seq_length, 1))\n",
        "\n",
        "# Normalise the data by dividing by the max number of unique words (the vocab size)\n",
        "X = X / float(vocab_size)\n",
        "\n",
        "# one-hot encode the output words so that they can be used by the model (converts the output to 2-dimensions)\n",
        "y = to_categorical(output_words)\n",
        "\n",
        "     "
      ],
      "metadata": {
        "id": "XgVFaxYxgCez"
      },
      "execution_count": 13,
      "outputs": []
    },
    {
      "cell_type": "code",
      "source": [
        "\n",
        "# create, compile and fit the model\n",
        "model = Sequential()\n",
        "model.add(LSTM(1000, input_shape=(X.shape[1], X.shape[2]), return_sequences=False))\n",
        "model.add(Dropout(0.5))\n",
        "model.add(Dense(y.shape[1], activation='softmax'))\n",
        "model.summary()\n",
        "\n",
        "model.compile(loss='categorical_crossentropy', optimizer='adam', metrics=['accuracy'])\n",
        "model.fit(X, y, batch_size=100, epochs=50, verbose=1)"
      ],
      "metadata": {
        "colab": {
          "base_uri": "https://localhost:8080/"
        },
        "id": "-XHOvutMgFnD",
        "outputId": "9eeb13bf-e8f6-452b-e094-9636bb506284"
      },
      "execution_count": 14,
      "outputs": [
        {
          "output_type": "stream",
          "name": "stdout",
          "text": [
            "Model: \"sequential_7\"\n",
            "_________________________________________________________________\n",
            " Layer (type)                Output Shape              Param #   \n",
            "=================================================================\n",
            " lstm_7 (LSTM)               (None, 1000)              4008000   \n",
            "                                                                 \n",
            " dropout_7 (Dropout)         (None, 1000)              0         \n",
            "                                                                 \n",
            " dense_7 (Dense)             (None, 1506)              1507506   \n",
            "                                                                 \n",
            "=================================================================\n",
            "Total params: 5,515,506\n",
            "Trainable params: 5,515,506\n",
            "Non-trainable params: 0\n",
            "_________________________________________________________________\n",
            "Epoch 1/50\n",
            "66/66 [==============================] - 70s 1s/step - loss: 6.4893 - accuracy: 0.0614\n",
            "Epoch 2/50\n",
            "66/66 [==============================] - 68s 1s/step - loss: 6.2310 - accuracy: 0.0611\n",
            "Epoch 3/50\n",
            "66/66 [==============================] - 68s 1s/step - loss: 6.1954 - accuracy: 0.0641\n",
            "Epoch 4/50\n",
            "66/66 [==============================] - 67s 1s/step - loss: 6.1869 - accuracy: 0.0660\n",
            "Epoch 5/50\n",
            "66/66 [==============================] - 68s 1s/step - loss: 6.1780 - accuracy: 0.0664\n",
            "Epoch 6/50\n",
            "66/66 [==============================] - 68s 1s/step - loss: 6.1717 - accuracy: 0.0634\n",
            "Epoch 7/50\n",
            "66/66 [==============================] - 69s 1s/step - loss: 6.1716 - accuracy: 0.0660\n",
            "Epoch 8/50\n",
            "66/66 [==============================] - 68s 1s/step - loss: 6.1721 - accuracy: 0.0660\n",
            "Epoch 9/50\n",
            "66/66 [==============================] - 69s 1s/step - loss: 6.1659 - accuracy: 0.0653\n",
            "Epoch 10/50\n",
            "66/66 [==============================] - 69s 1s/step - loss: 6.1644 - accuracy: 0.0649\n",
            "Epoch 11/50\n",
            "66/66 [==============================] - 69s 1s/step - loss: 6.1637 - accuracy: 0.0628\n",
            "Epoch 12/50\n",
            "66/66 [==============================] - 69s 1s/step - loss: 6.1588 - accuracy: 0.0655\n",
            "Epoch 13/50\n",
            "66/66 [==============================] - 67s 1s/step - loss: 6.1589 - accuracy: 0.0676\n",
            "Epoch 14/50\n",
            "66/66 [==============================] - 69s 1s/step - loss: 6.1581 - accuracy: 0.0698\n",
            "Epoch 15/50\n",
            "66/66 [==============================] - 69s 1s/step - loss: 6.1552 - accuracy: 0.0658\n",
            "Epoch 16/50\n",
            "66/66 [==============================] - 68s 1s/step - loss: 6.1487 - accuracy: 0.0685\n",
            "Epoch 17/50\n",
            "66/66 [==============================] - 67s 1s/step - loss: 6.1473 - accuracy: 0.0699\n",
            "Epoch 18/50\n",
            "66/66 [==============================] - 69s 1s/step - loss: 6.1412 - accuracy: 0.0687\n",
            "Epoch 19/50\n",
            "66/66 [==============================] - 69s 1s/step - loss: 6.1322 - accuracy: 0.0720\n",
            "Epoch 20/50\n",
            "66/66 [==============================] - 69s 1s/step - loss: 6.1140 - accuracy: 0.0720\n",
            "Epoch 21/50\n",
            "66/66 [==============================] - 69s 1s/step - loss: 6.0995 - accuracy: 0.0713\n",
            "Epoch 22/50\n",
            "66/66 [==============================] - 68s 1s/step - loss: 6.0686 - accuracy: 0.0754\n",
            "Epoch 23/50\n",
            "66/66 [==============================] - 69s 1s/step - loss: 6.0219 - accuracy: 0.0746\n",
            "Epoch 24/50\n",
            "66/66 [==============================] - 69s 1s/step - loss: 5.9737 - accuracy: 0.0746\n",
            "Epoch 25/50\n",
            "66/66 [==============================] - 68s 1s/step - loss: 5.9054 - accuracy: 0.0756\n",
            "Epoch 26/50\n",
            "66/66 [==============================] - 67s 1s/step - loss: 5.8200 - accuracy: 0.0760\n",
            "Epoch 27/50\n",
            "66/66 [==============================] - 69s 1s/step - loss: 5.6995 - accuracy: 0.0736\n",
            "Epoch 28/50\n",
            "66/66 [==============================] - 68s 1s/step - loss: 5.5840 - accuracy: 0.0748\n",
            "Epoch 29/50\n",
            "66/66 [==============================] - 70s 1s/step - loss: 5.4173 - accuracy: 0.0748\n",
            "Epoch 30/50\n",
            "66/66 [==============================] - 68s 1s/step - loss: 5.2261 - accuracy: 0.0763\n",
            "Epoch 31/50\n",
            "66/66 [==============================] - 68s 1s/step - loss: 4.9974 - accuracy: 0.0824\n",
            "Epoch 32/50\n",
            "66/66 [==============================] - 69s 1s/step - loss: 4.7282 - accuracy: 0.0894\n",
            "Epoch 33/50\n",
            "66/66 [==============================] - 69s 1s/step - loss: 4.4657 - accuracy: 0.1072\n",
            "Epoch 34/50\n",
            "66/66 [==============================] - 69s 1s/step - loss: 4.1457 - accuracy: 0.1340\n",
            "Epoch 35/50\n",
            "66/66 [==============================] - 67s 1s/step - loss: 3.7968 - accuracy: 0.1810\n",
            "Epoch 36/50\n",
            "66/66 [==============================] - 69s 1s/step - loss: 3.4121 - accuracy: 0.2419\n",
            "Epoch 37/50\n",
            "66/66 [==============================] - 69s 1s/step - loss: 3.0590 - accuracy: 0.3168\n",
            "Epoch 38/50\n",
            "66/66 [==============================] - 70s 1s/step - loss: 2.7141 - accuracy: 0.3753\n",
            "Epoch 39/50\n",
            "66/66 [==============================] - 72s 1s/step - loss: 2.3436 - accuracy: 0.4664\n",
            "Epoch 40/50\n",
            "66/66 [==============================] - 69s 1s/step - loss: 1.9953 - accuracy: 0.5407\n",
            "Epoch 41/50\n",
            "66/66 [==============================] - 69s 1s/step - loss: 1.6941 - accuracy: 0.6158\n",
            "Epoch 42/50\n",
            "66/66 [==============================] - 69s 1s/step - loss: 1.4094 - accuracy: 0.6893\n",
            "Epoch 43/50\n",
            "66/66 [==============================] - 69s 1s/step - loss: 1.1617 - accuracy: 0.7473\n",
            "Epoch 44/50\n",
            "66/66 [==============================] - 70s 1s/step - loss: 0.9919 - accuracy: 0.7872\n",
            "Epoch 45/50\n",
            "66/66 [==============================] - 69s 1s/step - loss: 0.8139 - accuracy: 0.8344\n",
            "Epoch 46/50\n",
            "66/66 [==============================] - 70s 1s/step - loss: 0.6404 - accuracy: 0.8786\n",
            "Epoch 47/50\n",
            "66/66 [==============================] - 70s 1s/step - loss: 0.5221 - accuracy: 0.9066\n",
            "Epoch 48/50\n",
            "66/66 [==============================] - 69s 1s/step - loss: 0.4376 - accuracy: 0.9266\n",
            "Epoch 49/50\n",
            "66/66 [==============================] - 70s 1s/step - loss: 0.3494 - accuracy: 0.9456\n",
            "Epoch 50/50\n",
            "66/66 [==============================] - 70s 1s/step - loss: 0.2975 - accuracy: 0.9577\n"
          ]
        },
        {
          "output_type": "execute_result",
          "data": {
            "text/plain": [
              "<keras.callbacks.History at 0x7f0a57b46a00>"
            ]
          },
          "metadata": {},
          "execution_count": 14
        }
      ]
    },
    {
      "cell_type": "code",
      "source": [
        "seq = [' '.join(w) for w in input_sequence_words]\n",
        "reference = seq\n",
        "\n",
        "def generate_poem(PoemLength):\n",
        "      # Make Predictions\n",
        "    random_seq_index = np.random.randint(0, PoemLength-1)    # select a random number from within the range of the number of input sequences\n",
        "    random_seq = input_sequence[random_seq_index]                     # get the input sequence that occurs at the randomly selected index (this is a list of integers)\n",
        "\n",
        "    index_2_word = dict(map(reversed, word_2_index.items())) # convert the integer sequence to its words\n",
        "    seed_word_sequence = [index_2_word[value] for value in random_seq]  # get the list of words that correspond to the integers in the randomly picked sequence\n",
        "\n",
        "\n",
        "    word_sequence = []\n",
        "    for i in range(PoemLength):\n",
        "        int_sample = np.reshape(random_seq, (1, len(random_seq), 1))    # reshape to make 3-D input (1 sequence, length of the sequence, 1 because the first LSTM requires another dimension)\n",
        "        int_sample = int_sample / float(vocab_size)                     # normalise (as we normalised the training data)\n",
        "        \n",
        "        predicted_word_index = model.predict(int_sample, verbose=0)     # predict the next word.  An array of the probabilities for each word in the vocab is returned.\n",
        "        predicted_word_id = np.argmax(predicted_word_index)             # get the index of the maximum value (they are categorical so the max value gives the word in the vocab with the highest probability)\n",
        "        word_sequence.append(index_2_word[ predicted_word_id])          # get the predicted word by finding the word at the predicted index and add it to our predicted word sequence list\n",
        "\n",
        "        random_seq.append(predicted_word_id)                            # append the predicted word index to the next seuqence to be input into the model predict method\n",
        "        random_seq = random_seq[1:len(random_seq)]                      # remove the first element of the sequence so it now has the new word but is the same length.\n",
        "\n",
        "    # BLEU score\n",
        "    candidate = ' '.join(word_sequence) # make the list of words into a string\n",
        "    score = sentence_bleu(reference, candidate)\n",
        "\n",
        "    print('%s'%(candidate))\n",
        "    print('\\n')\n",
        "    print('BLEU Score for predicted words: %s'%(score))\n",
        "    print('\\n')\n"
      ],
      "metadata": {
        "id": "_cPGvZ-dgL09"
      },
      "execution_count": 15,
      "outputs": []
    },
    {
      "cell_type": "code",
      "source": [
        "# Predicting the poems\n",
        "\n",
        "print('Poem 1')\n",
        "generate_poem(25)\n",
        "print('\\n')\n",
        "\n",
        "print('Poem 2')\n",
        "generate_poem(25)\n",
        "print('\\n')\n",
        "\n",
        "print('Poem 3')\n",
        "generate_poem(25)\n",
        "print('\\n')"
      ],
      "metadata": {
        "colab": {
          "base_uri": "https://localhost:8080/"
        },
        "id": "Q3gQLBIwG7QD",
        "outputId": "21dd55c1-e2f4-4913-81c0-6fac2f57d2c7"
      },
      "execution_count": 16,
      "outputs": [
        {
          "output_type": "stream",
          "name": "stdout",
          "text": [
            "Poem 1\n",
            "of pleasant glee on cloud saw child and he laughing said to me pipe song about lamb so piped with merry cheer piper pipe that\n",
            "\n",
            "\n",
            "BLEU Score for predicted words: 1.0\n",
            "\n",
            "\n",
            "\n",
            "\n",
            "Poem 2\n",
            "with merry cheer piper pipe that song again so piped he wept to hear drop thy pipe thy happy pipe sing thy songs of happy\n",
            "\n",
            "\n",
            "BLEU Score for predicted words: 1.0\n",
            "\n",
            "\n",
            "\n",
            "\n",
            "Poem 3\n",
            "merry cheer piper pipe that song again so piped he wept to hear drop thy pipe thy happy pipe sing thy songs of happy cheer\n",
            "\n",
            "\n",
            "BLEU Score for predicted words: 1.0\n",
            "\n",
            "\n",
            "\n",
            "\n"
          ]
        }
      ]
    }
  ]
}